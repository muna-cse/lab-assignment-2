{
 "cells": [
  {
   "cell_type": "markdown",
   "metadata": {},
   "source": [
    "## Uniform Cost Search"
   ]
  },
  {
   "cell_type": "code",
   "execution_count": 6,
   "metadata": {},
   "outputs": [
    {
     "name": "stdout",
     "output_type": "stream",
     "text": [
      "(9, 6)\n"
     ]
    }
   ],
   "source": [
    "from heapq import heappush, heappop, heapify\n",
    "\n",
    "def UCS(graph,start,goal):\n",
    "  explored=[]\n",
    "  pq=[]\n",
    "  heapify(pq)\n",
    "  heappush(pq, (0, start))\n",
    "  while len(pq)>0:\n",
    "    current=heappop(pq)\n",
    "    if current[1]==goal:\n",
    "      return current\n",
    "    else:\n",
    "      explored.append(current[1])\n",
    "      for edge in graph[current[1]-1]:\n",
    "        if not edge[0] in explored:\n",
    "          heappush(pq,(edge[1]+current[0],edge[0]))\n",
    "\n",
    "graph=[[[1,0],[3,2]],[[2,0],[4,2]],[[3,0],[5,6],[6,7]],[[4,0],[5,4]],[[5,0],[6,3]],[[6,0],[5,3]]]\n",
    "print(UCS(graph,1,6))\n"
   ]
  },
  {
   "cell_type": "code",
   "execution_count": null,
   "metadata": {},
   "outputs": [],
   "source": []
  },
  {
   "cell_type": "code",
   "execution_count": null,
   "metadata": {},
   "outputs": [],
   "source": []
  }
 ],
 "metadata": {
  "kernelspec": {
   "display_name": "Python 3",
   "language": "python",
   "name": "python3"
  },
  "language_info": {
   "codemirror_mode": {
    "name": "ipython",
    "version": 3
   },
   "file_extension": ".py",
   "mimetype": "text/x-python",
   "name": "python",
   "nbconvert_exporter": "python",
   "pygments_lexer": "ipython3",
   "version": "3.7.3"
  }
 },
 "nbformat": 4,
 "nbformat_minor": 2
}
